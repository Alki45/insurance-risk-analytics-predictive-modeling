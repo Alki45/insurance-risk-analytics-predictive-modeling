{
 "cells": [
  {
   "cell_type": "code",
   "execution_count": 2,
   "id": "e4f3b15e",
   "metadata": {},
   "outputs": [],
   "source": [
    "import pandas as pd \n",
    "import numpy as np\n",
    "import sys\n",
    "import os"
   ]
  },
  {
   "cell_type": "code",
   "execution_count": null,
   "id": "35484fc5",
   "metadata": {},
   "outputs": [
    {
     "name": "stdout",
     "output_type": "stream",
     "text": [
      "UnderwrittenCoverID|PolicyID|TransactionMonth|IsVATRegistered|Citizenship|LegalType|Title|Language|Bank|AccountType|MaritalStatus|Gender|Country|Province|PostalCode|MainCrestaZone|SubCrestaZone|ItemType|mmcode|VehicleType|RegistrationYear|make|Model|Cylinders|cubiccapacity|kilowatts|bodytype|NumberOfDoors|VehicleIntroDate|CustomValueEstimate|AlarmImmobiliser|TrackingDevice|CapitalOutstanding|NewVehicle|WrittenOff|Rebuilt|Converted|CrossBorder|NumberOfVehiclesInFleet|SumInsured|TermFrequency|CalculatedPremiumPerTerm|ExcessSelected|CoverCategory|CoverType|CoverGroup|Section|Product|StatutoryClass|StatutoryRiskType|TotalPremium|TotalClaims\n",
      "\n",
      "145249|12827|2015-03-01 00:00:00|True|  |Close Corporation|Mr|English|First National Bank|Current account|Not specified|Not specified|South Africa|Gauteng|1459|Rand East|Rand East|Mobility - Motor|44069150|Passenger Vehicle|2004|MERCEDES-BENZ|E 240|6|2597|130|S/D|4|6/2002|119300|Yes|No|119300|More than 6 months||||||0.01|Monthly|25|Mobility - Windscreen|Windscreen|Windscreen|Comprehensive - Taxi|Motor Comprehensive|Mobility Metered Taxis: Monthly|Commercial|IFRS Constant|21.929824561403|.000000000000\n",
      "\n",
      "145249|12827|2015-05-01 00:00:00|True|  |Close Corporation|Mr|English|First National Bank|Current account|Not specified|Not specified|South Africa|Gauteng|1459|Rand East|Rand East|Mobility - Motor|44069150|Passenger Vehicle|2004|MERCEDES-BENZ|E 240|6|2597|130|S/D|4|6/2002|119300|Yes|No|119300|More than 6 months||||||0.01|Monthly|25|Mobility - Windscreen|Windscreen|Windscreen|Comprehensive - Taxi|Motor Comprehensive|Mobility Metered Taxis: Monthly|Commercial|IFRS Constant|21.929824561403|.000000000000\n",
      "\n",
      "145249|12827|2015-07-01 00:00:00|True|  |Close Corporation|Mr|English|First National Bank|Current account|Not specified|Not specified|South Africa|Gauteng|1459|Rand East|Rand East|Mobility - Motor|44069150|Passenger Vehicle|2004|MERCEDES-BENZ|E 240|6|2597|130|S/D|4|6/2002|119300|Yes|No|119300|More than 6 months||||||0.01|Monthly|25|Mobility - Windscreen|Windscreen|Windscreen|Comprehensive - Taxi|Motor Comprehensive|Mobility Metered Taxis: Monthly|Commercial|IFRS Constant|.000000000000|.000000000000\n",
      "\n",
      "145255|12827|2015-05-01 00:00:00|True|  |Close Corporation|Mr|English|First National Bank|Current account|Not specified|Not specified|South Africa|Gauteng|1459|Rand East|Rand East|Mobility - Motor|44069150|Passenger Vehicle|2004|MERCEDES-BENZ|E 240|6|2597|130|S/D|4|6/2002|119300|Yes|No|119300|More than 6 months||||||119300|Monthly|584.6468|Mobility - Metered Taxis - R2000|Own damage|Own Damage|Comprehensive - Taxi|Motor Comprehensive|Mobility Metered Taxis: Monthly|Commercial|IFRS Constant|512.848070175439|.000000000000\n",
      "\n",
      "Reading data...\n",
      "Data read successfully.\n"
     ]
    }
   ],
   "source": [
    "data=pd.read_csv(\"../data/processed/MachineLearningRating_v3.txt\",SEP=\"|\",header=None)"
   ]
  },
  {
   "cell_type": "code",
   "execution_count": null,
   "id": "bae4aff1",
   "metadata": {},
   "outputs": [],
   "source": []
  }
 ],
 "metadata": {
  "kernelspec": {
   "display_name": ".venv",
   "language": "python",
   "name": "python3"
  },
  "language_info": {
   "codemirror_mode": {
    "name": "ipython",
    "version": 3
   },
   "file_extension": ".py",
   "mimetype": "text/x-python",
   "name": "python",
   "nbconvert_exporter": "python",
   "pygments_lexer": "ipython3",
   "version": "3.12.3"
  }
 },
 "nbformat": 4,
 "nbformat_minor": 5
}
